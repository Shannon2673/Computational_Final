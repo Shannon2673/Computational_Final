{
 "cells": [
  {
   "cell_type": "markdown",
   "metadata": {},
   "source": [
    "# Neural Network Conversion\n",
    "\n",
    "In this jupyter notebook I will convert a 2d grid into a neural network.\n"
   ]
  },
  {
   "cell_type": "markdown",
   "metadata": {},
   "source": [
    "Code reference: http://neuralnetworksanddeeplearning.com/chap1.html\n",
    "\n",
    "Code reference is written in python 2, I am modifying the examples to fit a network of my needs, and also to be in python 3."
   ]
  },
  {
   "cell_type": "code",
   "execution_count": null,
   "metadata": {},
   "outputs": [],
   "source": [
    "class Network(object):\n",
    "    \n",
    "    def __init__(self,sizes):\n",
    "        \n",
    "        \"\"\"This creates an initializes the neural network.\n",
    "        \n",
    "    Parameters: \n",
    "    sizes: a list of the number of nodes in each layer\n",
    "    \n",
    "    Returns: A network of layers with the specified number of nodes, \n",
    "    initially having randomized weights and biases\"\"\"\n",
    "        \n",
    "        \n",
    "        self.num_layers = len(sizes)\n",
    "        self.sizes = sizes\n",
    "        self.biases = [np.random.normal(y,1) for y in sizes [1:]]\n",
    "        self.weights = [np.random.normal(y,x) \n",
    "                        for x, y in sizes[:-1], sizes[1:]]"
   ]
  }
 ],
 "metadata": {
  "kernelspec": {
   "display_name": "Python 3",
   "language": "python",
   "name": "python3"
  },
  "language_info": {
   "codemirror_mode": {
    "name": "ipython",
    "version": 3
   },
   "file_extension": ".py",
   "mimetype": "text/x-python",
   "name": "python",
   "nbconvert_exporter": "python",
   "pygments_lexer": "ipython3",
   "version": "3.7.4"
  }
 },
 "nbformat": 4,
 "nbformat_minor": 2
}
